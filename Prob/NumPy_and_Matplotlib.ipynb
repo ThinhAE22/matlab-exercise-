{
  "nbformat": 4,
  "nbformat_minor": 0,
  "metadata": {
    "colab": {
      "provenance": []
    },
    "kernelspec": {
      "name": "python3",
      "display_name": "Python 3"
    },
    "language_info": {
      "name": "python"
    }
  },
  "cells": [
    {
      "cell_type": "code",
      "metadata": {
        "id": "LHcMg39AoSRI"
      },
      "source": [
        "# NumPy: a library for vector and  matrix calculations\n",
        "import numpy as np\n",
        "\n",
        "#nD-array\n",
        "#1D-array = vector\n",
        "#2D-array = 2D-matrix = a collection of 1D-arrays\n",
        "#3D-array = 3D-matrix = a collection of 2D-arrays\n",
        "#4D-array = 4D-matrix = a collection of 3D-arrays\n"
      ],
      "execution_count": 1,
      "outputs": []
    },
    {
      "cell_type": "code",
      "source": [
        "#1D-array = vector\n",
        "v=np.array([4,5,1,0,-2])  #v=[v[0],v[1],v[2],v[3],v[4]]\n",
        "#NOTE: indexing from 0 !!\n",
        "print(v)"
      ],
      "metadata": {
        "id": "XILthdi9RcKG",
        "colab": {
          "base_uri": "https://localhost:8080/"
        },
        "outputId": "9e673dc7-e77a-4cd2-ca13-8e5dbcef0e86"
      },
      "execution_count": 4,
      "outputs": [
        {
          "output_type": "stream",
          "name": "stdout",
          "text": [
            "[ 4  5  1  0 -2]\n"
          ]
        }
      ]
    },
    {
      "cell_type": "code",
      "source": [
        "v.shape #(5,)\n",
        "v[0] #element 0 = first element\n",
        "v[-1] #last element\n",
        "v[0:3] #elements 0,1,2 NOTE: element v[3] is NOT included !\n",
        "print(v[0:3])\n",
        "v[1:-1] #elements 1,2,...,second to last\n",
        "v[1:] #elements 1,2,...,last\n",
        "v[-3:] #elements a[2],a[3],a[4], third to last, second to last ,...,last\n",
        "ind=[1,2,4]\n",
        "v[ind] #elements 1,2,4"
      ],
      "metadata": {
        "id": "cJ5IHi2pRid0",
        "colab": {
          "base_uri": "https://localhost:8080/"
        },
        "outputId": "4f7b5695-ca39-459b-b88a-ab4fd583c040"
      },
      "execution_count": 5,
      "outputs": [
        {
          "output_type": "stream",
          "name": "stdout",
          "text": [
            "[4 5 1]\n"
          ]
        },
        {
          "output_type": "execute_result",
          "data": {
            "text/plain": [
              "array([ 5,  1, -2])"
            ]
          },
          "metadata": {},
          "execution_count": 5
        }
      ]
    },
    {
      "cell_type": "code",
      "source": [
        "#indexing with true/false-condotions\n",
        "v=np.array([4,5,1,0,-2])  #v=[v[0],v[1],v[2],v[3],v[4]]\n",
        "print(v>3) #[true,true,false,false,false]\n",
        "print(v[v>3]) #elements which are > 3\n",
        "v[(v>3)|(v<0)] #elements which are >3 or <0\n",
        "\n",
        "y=np.array([0,1,0,1,1])\n",
        "y==1\n",
        "v[y==1] #elements 1,3,4\n",
        "\n",
        "#&  and\n",
        "#|  or\n",
        "#!= not equal"
      ],
      "metadata": {
        "colab": {
          "base_uri": "https://localhost:8080/"
        },
        "id": "Zyw-IXIWtnnk",
        "outputId": "6b8126c3-fae8-49e5-ebce-ee47acfc8b58"
      },
      "execution_count": 6,
      "outputs": [
        {
          "output_type": "stream",
          "name": "stdout",
          "text": [
            "[ True  True False False False]\n",
            "[4 5]\n"
          ]
        },
        {
          "output_type": "execute_result",
          "data": {
            "text/plain": [
              "array([ 5,  0, -2])"
            ]
          },
          "metadata": {},
          "execution_count": 6
        }
      ]
    },
    {
      "cell_type": "code",
      "source": [
        "np.max(v) #max-element\n",
        "np.argmax(v) #corresponding index\n",
        "np.min(v) #min-element\n",
        "np.argmin(v) #corresponding index\n",
        "np.sum(v) #sum of elements\n",
        "np.sort(v) #smallest -> largest\n",
        "-np.sort(-v) #largest -> smallest\n",
        "np.argsort(v) #indices, smallest->largest\n",
        "np.argsort(-v) #indices, largest->smallest\n"
      ],
      "metadata": {
        "colab": {
          "base_uri": "https://localhost:8080/"
        },
        "id": "Bx3NeOEzgJ_D",
        "outputId": "39f20a63-5420-4997-8727-5d0308a23028"
      },
      "execution_count": 7,
      "outputs": [
        {
          "output_type": "execute_result",
          "data": {
            "text/plain": [
              "array([1, 0, 2, 3, 4])"
            ]
          },
          "metadata": {},
          "execution_count": 7
        }
      ]
    },
    {
      "cell_type": "code",
      "source": [
        "#constant 1D-arrays\n",
        "n=10\n",
        "np.zeros(n)\n",
        "np.ones(n)"
      ],
      "metadata": {
        "colab": {
          "base_uri": "https://localhost:8080/"
        },
        "id": "PZL9iF-0g-Gc",
        "outputId": "028bd557-9e60-412f-f8ad-b61ced5acc62"
      },
      "execution_count": 8,
      "outputs": [
        {
          "output_type": "execute_result",
          "data": {
            "text/plain": [
              "array([1., 1., 1., 1., 1., 1., 1., 1., 1., 1.])"
            ]
          },
          "metadata": {},
          "execution_count": 8
        }
      ]
    },
    {
      "cell_type": "code",
      "source": [
        "#1D-arrays with fixed step\n",
        "v=np.arange(0,10,2) #=[0,2,4,6,8], (start,end,step), end IS NOT included\n",
        "print(v,'\\n')\n",
        "w=np.linspace(0,1,11) #=[0,0.1,0.2,...,0.9,1] (start,end,number of elements), end IS included\n",
        "print(w)"
      ],
      "metadata": {
        "colab": {
          "base_uri": "https://localhost:8080/"
        },
        "id": "E5zl3Zskb84z",
        "outputId": "905795da-bb6a-4458-c6f2-b56243f7a7e0"
      },
      "execution_count": null,
      "outputs": [
        {
          "output_type": "stream",
          "name": "stdout",
          "text": [
            "[0 2 4 6 8] \n",
            "\n",
            "[0.  0.1 0.2 0.3 0.4 0.5 0.6 0.7 0.8 0.9 1. ]\n"
          ]
        }
      ]
    },
    {
      "cell_type": "code",
      "metadata": {
        "id": "P7DJ24G8pMl6",
        "colab": {
          "base_uri": "https://localhost:8080/"
        },
        "outputId": "5d707420-86ae-482c-9e3e-924874fae059"
      },
      "source": [
        "#2D-array = matrix\n",
        "A=np.array([[1,3,4,0],[-1,5,8,6],[5,3,0,1]])\n",
        "#rows [1,3,4,0],[-1,5,8,6],[5,3,0,1]\n",
        "A"
      ],
      "execution_count": null,
      "outputs": [
        {
          "output_type": "execute_result",
          "data": {
            "text/plain": [
              "array([[ 1,  3,  4,  0],\n",
              "       [-1,  5,  8,  6],\n",
              "       [ 5,  3,  0,  1]])"
            ]
          },
          "metadata": {},
          "execution_count": 10
        }
      ]
    },
    {
      "cell_type": "code",
      "source": [
        "m,n=A.shape\n",
        "#m=number of rows\n",
        "#n=number of columns\n",
        "r=0\n",
        "s=1\n",
        "A[r,s] #element at row r, column s (column = sarake in Finnish)\n",
        "\n",
        "A[r,:] #or A[r], row r, 1D-array !!\n",
        "A[:,s] #column s, 1D-array !!\n",
        "\n",
        "A[1:3,0:3] #rows 1 and 2, columns 0,1 and 2\n",
        "A[[0,2],:] #rows 0 and 2\n",
        "A[:,[0,2,3]] #columns 0,2,3"
      ],
      "metadata": {
        "id": "fb26MUyUSQnu",
        "colab": {
          "base_uri": "https://localhost:8080/"
        },
        "outputId": "b4baa178-b4bd-46cc-9d3b-91c325126e0d"
      },
      "execution_count": null,
      "outputs": [
        {
          "output_type": "execute_result",
          "data": {
            "text/plain": [
              "array([[ 1,  4,  0],\n",
              "       [-1,  8,  6],\n",
              "       [ 5,  0,  1]])"
            ]
          },
          "metadata": {},
          "execution_count": 7
        }
      ]
    },
    {
      "cell_type": "code",
      "source": [
        "#indexing with true/false-conditions\n",
        "A=np.array([[1,3,4,0,2],[-1,5,8,6,1],[5,3,0,1,-2],[0,4,2,8,6]])\n",
        "\n",
        "\n",
        "A[A>0] #elements which are>0, 1D-array\n",
        "\n",
        "y=np.array([1,0,1,1,1])\n",
        "y==1\n",
        "A[:,y==1] #columns 0,2,3,4\n",
        "\n",
        "z=np.array([0,1,0,1])\n",
        "A[z==1,:] #rows 1,3\n",
        "\n",
        "#and: &\n",
        "#or:  |\n",
        "#not equal:  !=\n"
      ],
      "metadata": {
        "colab": {
          "base_uri": "https://localhost:8080/"
        },
        "id": "eAHNDy3kW_8t",
        "outputId": "26d30d7e-1ce7-4e56-962f-cd25a863af61"
      },
      "execution_count": null,
      "outputs": [
        {
          "output_type": "execute_result",
          "data": {
            "text/plain": [
              "array([[-1,  5,  8,  6,  1],\n",
              "       [ 0,  4,  2,  8,  6]])"
            ]
          },
          "metadata": {},
          "execution_count": 8
        }
      ]
    },
    {
      "cell_type": "code",
      "metadata": {
        "id": "PN9ghG4BpYGR",
        "colab": {
          "base_uri": "https://localhost:8080/"
        },
        "outputId": "b8e490fb-4ca6-4517-82d7-9d58c8d7673f"
      },
      "source": [
        "#constant matrices\n",
        "m=3\n",
        "n=4\n",
        "print(np.zeros((m,n)),'\\n') #(m,n)-matrix of zeros\n",
        "print(np.ones((m,n)))  #(m,n)-matrix of ones"
      ],
      "execution_count": null,
      "outputs": [
        {
          "output_type": "stream",
          "name": "stdout",
          "text": [
            "[[0. 0. 0. 0.]\n",
            " [0. 0. 0. 0.]\n",
            " [0. 0. 0. 0.]] \n",
            "\n",
            "[[1. 1. 1. 1.]\n",
            " [1. 1. 1. 1.]\n",
            " [1. 1. 1. 1.]]\n"
          ]
        }
      ]
    },
    {
      "cell_type": "code",
      "metadata": {
        "id": "YJlReGrIpfdm",
        "colab": {
          "base_uri": "https://localhost:8080/"
        },
        "outputId": "88c52441-74c0-4027-ad58-4da7225e36b1"
      },
      "source": [
        "#creating an array using bigger pieces\n",
        "\n",
        "a=np.array([1,2,3])\n",
        "b=np.array([4,5,6])\n",
        "\n",
        "abh=np.hstack((a,b)) #stack horizontally\n",
        "print(abh,'\\n')\n",
        "\n",
        "abv=np.vstack((a,b)) #stack vertically\n",
        "print(abv,'\\n')\n",
        "\n",
        "#a and b to rows of a matrix abr\n",
        "abr=np.zeros((2,3))\n",
        "abr[0,:]=a\n",
        "abr[1,:]=b\n",
        "print(abr,'\\n')\n",
        "\n",
        "#a and b as columns of a matrix abs\n",
        "abc=np.zeros((3,2))\n",
        "abc[:,0]=a\n",
        "abc[:,1]=b\n",
        "print(abc,'\\n')"
      ],
      "execution_count": null,
      "outputs": [
        {
          "output_type": "stream",
          "name": "stdout",
          "text": [
            "[1 2 3 4 5 6] \n",
            "\n",
            "[[1 2 3]\n",
            " [4 5 6]] \n",
            "\n",
            "[[1. 2. 3.]\n",
            " [4. 5. 6.]] \n",
            "\n",
            "[[1. 4.]\n",
            " [2. 5.]\n",
            " [3. 6.]] \n",
            "\n"
          ]
        }
      ]
    },
    {
      "cell_type": "code",
      "source": [
        "A=np.array([[1,2],\n",
        "            [3,4]]) #(2,2)\n",
        "\n",
        "B=np.array([[5,1,2],\n",
        "            [6,7,3]]) #(2,3)\n",
        "\n",
        "\n",
        "C=np.array([[6,1],\n",
        "            [8,0],\n",
        "            [3,2]]) #(3,2)\n",
        "\n",
        "ABh=np.hstack((A,B)) #stack horizontally\n",
        "print(ABh,'\\n')\n",
        "ACv=np.vstack((A,C)) #stack vertically\n",
        "print(ACv,'\\n')\n",
        "\n",
        "\n",
        "#or\n",
        "ABh=np.zeros((2,5))\n",
        "ABh[:,:2]=A #columns 0 and 1\n",
        "ABh[:,2:]=B #columns 2...\n",
        "\n",
        "ACv=np.zeros((5,2))\n",
        "ACv[:2,:]=A #rows 0 and 1\n",
        "ACv[2:,:]=C #rows 2...\n"
      ],
      "metadata": {
        "colab": {
          "base_uri": "https://localhost:8080/"
        },
        "id": "X9gs3NL9KOOz",
        "outputId": "98f33803-f882-494b-a402-0b0fe8b4395a"
      },
      "execution_count": null,
      "outputs": [
        {
          "output_type": "stream",
          "name": "stdout",
          "text": [
            "[[1 2 5 1 2]\n",
            " [3 4 6 7 3]] \n",
            "\n",
            "[[1 2]\n",
            " [3 4]\n",
            " [6 1]\n",
            " [8 0]\n",
            " [3 2]] \n",
            "\n"
          ]
        }
      ]
    },
    {
      "cell_type": "code",
      "metadata": {
        "id": "g0YDPTSGpjf9",
        "colab": {
          "base_uri": "https://localhost:8080/"
        },
        "outputId": "56e9e475-f47c-4d51-8ac8-2758235ce7b5"
      },
      "source": [
        "#max, min, sum\n",
        "A=np.array([[1,3,4,0,2],\n",
        "            [-1,5,8,6,1],\n",
        "            [5,3,0,1,-2],\n",
        "            [0,4,2,8,6]])\n",
        "\n",
        "np.max(A) #max of the elements\n",
        "np.min(A) #min of the elements\n",
        "np.max(A,axis=0) #maxs of the columns, 1D-array, (n,)\n",
        "np.max(A,axis=0,keepdims=True) #,maxs of the columns, row vector, (1,n)\n",
        "np.max(A,axis=1) #maxs of the rows, 1D-array, (m,)\n",
        "np.max(A,axis=1, keepdims=True) #maxs of the rows, column vector, (m,1)\n",
        "\n",
        "np.sum(A)  #sum of elements\n",
        "np.sum(A,axis=0) #sums of columns\n",
        "np.sum(A,axis=0,keepdims=True)\n",
        "np.sum(A,axis=1) #sums of rows\n",
        "np.sum(A,axis=1,keepdims=True)\n"
      ],
      "execution_count": null,
      "outputs": [
        {
          "output_type": "execute_result",
          "data": {
            "text/plain": [
              "array([[1.41421356],\n",
              "       [3.31058907],\n",
              "       [2.41660919],\n",
              "       [2.82842712]])"
            ]
          },
          "metadata": {},
          "execution_count": 17
        }
      ]
    },
    {
      "cell_type": "code",
      "metadata": {
        "id": "hSWDvYD4pubT",
        "colab": {
          "base_uri": "https://localhost:8080/"
        },
        "outputId": "9633dfd8-03ea-4bfb-a2c8-acd47fc52527"
      },
      "source": [
        "#elementwise operations\n",
        "a=np.array([1,2,3])\n",
        "b=np.array([4,5,6])\n",
        "\n",
        "5*a\n",
        "a/5\n",
        "a+5\n",
        "5/a\n",
        "a**2 #to power 2\n",
        "\n",
        "#for arrays of same shape\n",
        "a+b\n",
        "a-b\n",
        "a*b\n",
        "a/b\n"
      ],
      "execution_count": null,
      "outputs": [
        {
          "output_type": "execute_result",
          "data": {
            "text/plain": [
              "array([0.25, 0.4 , 0.5 ])"
            ]
          },
          "metadata": {},
          "execution_count": 13
        }
      ]
    },
    {
      "cell_type": "code",
      "source": [
        "#transpose, rows <-> columns\n",
        "A=np.array([[1,2,3],\n",
        "            [4,5,6]])\n",
        "print(A.T,'\\n')\n",
        "\n",
        "np.array([1,2,3]).T #no effect on 1D-arrays"
      ],
      "metadata": {
        "id": "FJ7PcNY-F8o0",
        "colab": {
          "base_uri": "https://localhost:8080/"
        },
        "outputId": "3fec4d6f-5abd-4016-fa10-530fe877260b"
      },
      "execution_count": null,
      "outputs": [
        {
          "output_type": "stream",
          "name": "stdout",
          "text": [
            "[[1 4]\n",
            " [2 5]\n",
            " [3 6]] \n",
            "\n"
          ]
        },
        {
          "output_type": "execute_result",
          "data": {
            "text/plain": [
              "array([1, 2, 3])"
            ]
          },
          "metadata": {},
          "execution_count": 23
        }
      ]
    },
    {
      "cell_type": "code",
      "source": [
        "#matrix multiplication @\n",
        "A=np.array([[1,2],\n",
        "            [4,7]])\n",
        "\n",
        "B=np.array([[3,5],\n",
        "            [-4,2]])\n",
        "\n",
        "print(A@B,'\\n')\n",
        "\n",
        "#inverse matrix\n",
        "Ainv=np.linalg.inv(A)\n",
        "print(Ainv,'\\n')\n",
        "\n",
        "A@Ainv # = unit matrix"
      ],
      "metadata": {
        "id": "n9rfLPs4F04w",
        "colab": {
          "base_uri": "https://localhost:8080/"
        },
        "outputId": "e401d7fd-54fb-46f4-faf0-f329aa60ccab"
      },
      "execution_count": null,
      "outputs": [
        {
          "output_type": "stream",
          "name": "stdout",
          "text": [
            "[[ -5   9]\n",
            " [-16  34]] \n",
            "\n",
            "[[-7.  2.]\n",
            " [ 4. -1.]] \n",
            "\n"
          ]
        },
        {
          "output_type": "execute_result",
          "data": {
            "text/plain": [
              "array([[1., 0.],\n",
              "       [0., 1.]])"
            ]
          },
          "metadata": {},
          "execution_count": 24
        }
      ]
    },
    {
      "cell_type": "code",
      "source": [
        "#Matplotlib: plotting library\n",
        "import matplotlib.pyplot as plt"
      ],
      "metadata": {
        "id": "JHrydrE4jSCt"
      },
      "execution_count": 10,
      "outputs": []
    },
    {
      "cell_type": "code",
      "metadata": {
        "id": "gEjNGfq7pzKJ",
        "colab": {
          "base_uri": "https://localhost:8080/",
          "height": 492
        },
        "outputId": "07ca2359-78b3-4959-e9bb-21d714c9bfc9"
      },
      "source": [
        "# If x and y are 1D-arrays (or Python-lists [a,b,c,...]) of equal length,\n",
        "# then plt.plot(x,y)connects the 2D-points [x[0],y[0]] , [x[1],y[1]], [x[2],y[2]], … with line\n",
        "# i.e  x is the horizontal coordinate, y is vertical\n",
        "# plt.plot(y) -> horizontal coordinates 0,1,2,..., vertical y[0],y[1],y[2],...\n",
        "\n",
        "n=11\n",
        "x=np.linspace(-1,1,n)\n",
        "y1=np.sin(np.pi*x)\n",
        "y2=x**2\n",
        "\n",
        "plt.figure(figsize=(8,5)) #(width,height)\n",
        "plt.plot(x,y1,'r',linewidth=2,label='y1')\n",
        "plt.plot(x,y2,'g-o',markersize=10,label='y2')\n",
        "plt.plot([-1,0,1],[0.5,-0.4,1.4],'k',label='a line')\n",
        "plt.plot(x[0],y1[0],'ms',label='a point')\n",
        "plt.title('main title',fontsize=12)\n",
        "plt.xlabel('title for horizontal axis',fontsize=14)\n",
        "plt.ylabel('title for vertical axis')\n",
        "plt.grid() #background grid\n",
        "plt.legend(fontsize=12) #shows the labels\n",
        "plt.xlim(-1.1,1.1) #limits for horizontal axis\n",
        "plt.xticks(np.linspace(-1,1,11)) #grid-lines in horizontal axis\n",
        "plt.ylim(-1,2) #limits for vertical axis\n",
        "plt.show() #shows the picture"
      ],
      "execution_count": null,
      "outputs": [
        {
          "output_type": "display_data",
          "data": {
            "text/plain": [
              "<Figure size 800x500 with 1 Axes>"
            ],
            "image/png": "[encoded data removed]"
          },
          "metadata": {}
        }
      ]
    },
    {
      "cell_type": "code",
      "source": [
        "#%% bar-plot\n",
        "\n",
        "x=[1,2,3,4]\n",
        "y=[5,2,6,3]\n",
        "plt.figure(figsize=(7,5))\n",
        "plt.bar(x,y,facecolor='c',edgecolor='k',lw=1,zorder=2) #zorder=2->grid-viivat tolppien takana\n",
        "plt.grid()\n",
        "plt.xticks(x)\n",
        "plt.show()"
      ],
      "metadata": {
        "colab": {
          "base_uri": "https://localhost:8080/",
          "height": 445
        },
        "id": "Vi7ku87Eh8gv",
        "outputId": "580c5200-f394-47cf-aa89-edd66e3b3ba0"
      },
      "execution_count": 12,
      "outputs": [
        {
          "output_type": "display_data",
          "data": {
            "text/plain": [
              "<Figure size 700x500 with 1 Axes>"
            ],
            "image/png": "[encoded data removed]"
          },
          "metadata": {}
        }
      ]
    },
    {
      "cell_type": "code",
      "source": [
        "#%% load iris.txt to colab\n",
        "#luetaan tiedosto iris.txt (150,5)-matriisiksi data\n",
        "data=np.loadtxt('iris.txt')\n",
        "m,n=data.shape\n",
        "print(m)\n",
        "print(n)\n",
        "X=data[:,0:4] #sarakkeet 0-3, koordinaatit x0,x1,x2,x3\n",
        "y=data[:,4] #sarake 4, luokka 1,2 tai 3\n"
      ],
      "metadata": {
        "colab": {
          "base_uri": "https://localhost:8080/"
        },
        "id": "fIor_zY_Ijeb",
        "outputId": "b8a25a80-4ef9-4862-ce56-a401c45042a5"
      },
      "execution_count": 15,
      "outputs": [
        {
          "output_type": "stream",
          "name": "stdout",
          "text": [
            "150\n",
            "5\n"
          ]
        }
      ]
    },
    {
      "cell_type": "code",
      "source": [
        "#picture of the data points using coordinates (= columns of  X) i and j\n",
        "i=0\n",
        "j=1\n",
        "\n",
        "plt.figure(figsize=(5,5))\n",
        "plt.plot(X[y==0,i],X[y==0,j],'r.',label='y=0') #points from class y=0\n",
        "plt.plot(X[y==1,i],X[y==1,j],'g.',label='y=1') #points from class y=1\n",
        "plt.plot(X[y==2,i],X[y==2,j],'b.',label='y=2') #points from class y=2\n",
        "plt.grid()\n",
        "plt.legend()\n",
        "plt.xlabel('$x_i$')\n",
        "plt.ylabel('$x_j$',rotation=0)\n",
        "plt.show()"
      ],
      "metadata": {
        "colab": {
          "base_uri": "https://localhost:8080/",
          "height": 468
        },
        "id": "2Y9j_TiTKAl_",
        "outputId": "61be4363-5697-4602-a3cf-0901bcedae71"
      },
      "execution_count": 16,
      "outputs": [
        {
          "output_type": "display_data",
          "data": {
            "text/plain": [
              "<Figure size 500x500 with 1 Axes>"
            ],
            "image/png": "[encoded data removed]"
          },
          "metadata": {}
        }
      ]
    },
    {
      "cell_type": "code",
      "source": [
        "#values of column k\n",
        "plt.figure(figsize=(8,5))\n",
        "k=0\n",
        "plt.plot(X[:,k],'b.',markersize=12)\n",
        "plt.grid()\n",
        "plt.title('column ' + str(k))\n",
        "plt.xlabel('element number',fontsize=14)\n",
        "plt.show()"
      ],
      "metadata": {
        "colab": {
          "base_uri": "https://localhost:8080/",
          "height": 492
        },
        "id": "8dT4FNYGigeg",
        "outputId": "8661de6c-821f-4d7a-e34b-5394a1d89637"
      },
      "execution_count": 18,
      "outputs": [
        {
          "output_type": "display_data",
          "data": {
            "text/plain": [
              "<Figure size 800x500 with 1 Axes>"
            ],
            "image/png": "[encoded data removed]"
          },
          "metadata": {}
        }
      ]
    },
    {
      "cell_type": "code",
      "source": [
        "#distribution of values in column k (histogram)\n",
        "plt.figure(figsize=(8,5))\n",
        "#bins = number of intervals\n",
        "plt.hist(X[:,k],bins=30,edgecolor='k',zorder=2)\n",
        "plt.grid()\n",
        "plt.xlabel('value',fontsize=14)\n",
        "plt.ylabel('values on interval',fontsize=14)\n",
        "plt.title('column ' + str(k))\n",
        "plt.show()"
      ],
      "metadata": {
        "colab": {
          "base_uri": "https://localhost:8080/",
          "height": 492
        },
        "id": "9ih8o-XPitli",
        "outputId": "d2d7050e-c524-4cd1-b016-10fe3f84e3f9"
      },
      "execution_count": 21,
      "outputs": [
        {
          "output_type": "display_data",
          "data": {
            "text/plain": [
              "<Figure size 800x500 with 1 Axes>"
            ],
            "image/png": "[encoded data removed]"
          },
          "metadata": {}
        }
      ]
    }
  ]
}